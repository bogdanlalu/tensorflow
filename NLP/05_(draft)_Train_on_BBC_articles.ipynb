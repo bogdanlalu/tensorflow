{
  "nbformat": 4,
  "nbformat_minor": 0,
  "metadata": {
    "accelerator": "GPU",
    "colab": {
      "name": "05_(draft)_Train_on_BBC_articles.ipynb",
      "provenance": [],
      "toc_visible": true,
      "include_colab_link": true
    },
    "kernelspec": {
      "display_name": "Python 3",
      "name": "python3"
    }
  },
  "cells": [
    {
      "cell_type": "markdown",
      "metadata": {
        "id": "view-in-github",
        "colab_type": "text"
      },
      "source": [
        "<a href=\"https://colab.research.google.com/github/bogdanlalu/tensorflow/blob/master/NLP/05_(draft)_Train_on_BBC_articles.ipynb\" target=\"_parent\"><img src=\"https://colab.research.google.com/assets/colab-badge.svg\" alt=\"Open In Colab\"/></a>"
      ]
    },
    {
      "cell_type": "code",
      "metadata": {
        "id": "zX4Kg8DUTKWO",
        "colab_type": "code",
        "colab": {}
      },
      "source": [
        "#@title Licensed under the Apache License, Version 2.0 (the \"License\");\n",
        "# you may not use this file except in compliance with the License.\n",
        "# You may obtain a copy of the License at\n",
        "#\n",
        "# https://www.apache.org/licenses/LICENSE-2.0\n",
        "#\n",
        "# Unless required by applicable law or agreed to in writing, software\n",
        "# distributed under the License is distributed on an \"AS IS\" BASIS,\n",
        "# WITHOUT WARRANTIES OR CONDITIONS OF ANY KIND, either express or implied.\n",
        "# See the License for the specific language governing permissions and\n",
        "# limitations under the License."
      ],
      "execution_count": 0,
      "outputs": []
    },
    {
      "cell_type": "markdown",
      "metadata": {
        "colab_type": "text",
        "id": "view-in-github"
      },
      "source": [
        "<a href=\"https://colab.research.google.com/github/lmoroney/dlaicourse/blob/master/TensorFlow%20In%20Practice/Course%203%20-%20NLP/Course%203%20-%20Week%202%20-%20Exercise%20-%20Question.ipynb\" target=\"_parent\"><img src=\"https://colab.research.google.com/assets/colab-badge.svg\" alt=\"Open In Colab\"/></a>"
      ]
    },
    {
      "cell_type": "code",
      "metadata": {
        "colab_type": "code",
        "id": "gnwiOnGyW5JK",
        "outputId": "01ea8479-e88f-4805-bae2-8ba4e0b4df76",
        "colab": {
          "base_uri": "https://localhost:8080/",
          "height": 204
        }
      },
      "source": [
        "import csv\n",
        "import tensorflow as tf\n",
        "import numpy as np\n",
        "from tensorflow.keras.preprocessing.text import Tokenizer\n",
        "from tensorflow.keras.preprocessing.sequence import pad_sequences\n",
        "\n",
        "!wget --no-check-certificate \\\n",
        "    https://storage.googleapis.com/laurencemoroney-blog.appspot.com/bbc-text.csv \\\n",
        "    -O /tmp/bbc-text.csv"
      ],
      "execution_count": 0,
      "outputs": [
        {
          "output_type": "stream",
          "text": [
            "--2020-05-20 13:40:47--  https://storage.googleapis.com/laurencemoroney-blog.appspot.com/bbc-text.csv\n",
            "Resolving storage.googleapis.com (storage.googleapis.com)... 64.233.189.128, 2404:6800:4008:c04::80\n",
            "Connecting to storage.googleapis.com (storage.googleapis.com)|64.233.189.128|:443... connected.\n",
            "HTTP request sent, awaiting response... 200 OK\n",
            "Length: 5057493 (4.8M) [application/octet-stream]\n",
            "Saving to: ‘/tmp/bbc-text.csv’\n",
            "\n",
            "\r/tmp/bbc-text.csv     0%[                    ]       0  --.-KB/s               \r/tmp/bbc-text.csv    83%[===============>    ]   4.01M  16.8MB/s               \r/tmp/bbc-text.csv   100%[===================>]   4.82M  19.6MB/s    in 0.2s    \n",
            "\n",
            "2020-05-20 13:40:48 (19.6 MB/s) - ‘/tmp/bbc-text.csv’ saved [5057493/5057493]\n",
            "\n"
          ],
          "name": "stdout"
        }
      ]
    },
    {
      "cell_type": "code",
      "metadata": {
        "id": "30F-HgHIGw-p",
        "colab_type": "code",
        "outputId": "0827acae-517a-481e-cf97-42de7b5c9ada",
        "colab": {
          "base_uri": "https://localhost:8080/",
          "height": 88
        }
      },
      "source": [
        "!head /tmp/bbc-text.csv -n3"
      ],
      "execution_count": 0,
      "outputs": [
        {
          "output_type": "stream",
          "text": [
            "category,text\n",
            "tech,tv future in the hands of viewers with home theatre systems  plasma high-definition tvs  and digital video recorders moving into the living room  the way people watch tv will be radically different in five years  time.  that is according to an expert panel which gathered at the annual consumer electronics show in las vegas to discuss how these new technologies will impact one of our favourite pastimes. with the us leading the trend  programmes and other content will be delivered to viewers via home networks  through cable  satellite  telecoms companies  and broadband service providers to front rooms and portable devices.  one of the most talked-about technologies of ces has been digital and personal video recorders (dvr and pvr). these set-top boxes  like the us s tivo and the uk s sky+ system  allow people to record  store  play  pause and forward wind tv programmes when they want.  essentially  the technology allows for much more personalised tv. they are also being built-in to high-definition tv sets  which are big business in japan and the us  but slower to take off in europe because of the lack of high-definition programming. not only can people forward wind through adverts  they can also forget about abiding by network and channel schedules  putting together their own a-la-carte entertainment. but some us networks and cable and satellite companies are worried about what it means for them in terms of advertising revenues as well as  brand identity  and viewer loyalty to channels. although the us leads in this technology at the moment  it is also a concern that is being raised in europe  particularly with the growing uptake of services like sky+.  what happens here today  we will see in nine months to a years  time in the uk   adam hume  the bbc broadcast s futurologist told the bbc news website. for the likes of the bbc  there are no issues of lost advertising revenue yet. it is a more pressing issue at the moment for commercial uk broadcasters  but brand loyalty is important for everyone.  we will be talking more about content brands rather than network brands   said tim hanlon  from brand communications firm starcom mediavest.  the reality is that with broadband connections  anybody can be the producer of content.  he added:  the challenge now is that it is hard to promote a programme with so much choice.   what this means  said stacey jolna  senior vice president of tv guide tv group  is that the way people find the content they want to watch has to be simplified for tv viewers. it means that networks  in us terms  or channels could take a leaf out of google s book and be the search engine of the future  instead of the scheduler to help people find what they want to watch. this kind of channel model might work for the younger ipod generation which is used to taking control of their gadgets and what they play on them. but it might not suit everyone  the panel recognised. older generations are more comfortable with familiar schedules and channel brands because they know what they are getting. they perhaps do not want so much of the choice put into their hands  mr hanlon suggested.  on the other end  you have the kids just out of diapers who are pushing buttons already - everything is possible and available to them   said mr hanlon.  ultimately  the consumer will tell the market they want.   of the 50 000 new gadgets and technologies being showcased at ces  many of them are about enhancing the tv-watching experience. high-definition tv sets are everywhere and many new models of lcd (liquid crystal display) tvs have been launched with dvr capability built into them  instead of being external boxes. one such example launched at the show is humax s 26-inch lcd tv with an 80-hour tivo dvr and dvd recorder. one of the us s biggest satellite tv companies  directtv  has even launched its own branded dvr at the show with 100-hours of recording capability  instant replay  and a search function. the set can pause and rewind tv for up to 90 hours. and microsoft chief bill gates announced in his pre-show keynote speech a partnership with tivo  called tivotogo  which means people can play recorded programmes on windows pcs and mobile devices. all these reflect the increasing trend of freeing up multimedia so that people can watch what they want  when they want.\n",
            "business,worldcom boss  left books alone  former worldcom boss bernie ebbers  who is accused of overseeing an $11bn (£5.8bn) fraud  never made accounting decisions  a witness has told jurors.  david myers made the comments under questioning by defence lawyers who have been arguing that mr ebbers was not responsible for worldcom s problems. the phone company collapsed in 2002 and prosecutors claim that losses were hidden to protect the firm s shares. mr myers has already pleaded guilty to fraud and is assisting prosecutors.  on monday  defence lawyer reid weingarten tried to distance his client from the allegations. during cross examination  he asked mr myers if he ever knew mr ebbers  make an accounting decision  .  not that i am aware of   mr myers replied.  did you ever know mr ebbers to make an accounting entry into worldcom books   mr weingarten pressed.  no   replied the witness. mr myers has admitted that he ordered false accounting entries at the request of former worldcom chief financial officer scott sullivan. defence lawyers have been trying to paint mr sullivan  who has admitted fraud and will testify later in the trial  as the mastermind behind worldcom s accounting house of cards.  mr ebbers  team  meanwhile  are looking to portray him as an affable boss  who by his own admission is more pe graduate than economist. whatever his abilities  mr ebbers transformed worldcom from a relative unknown into a $160bn telecoms giant and investor darling of the late 1990s. worldcom s problems mounted  however  as competition increased and the telecoms boom petered out. when the firm finally collapsed  shareholders lost about $180bn and 20 000 workers lost their jobs. mr ebbers  trial is expected to last two months and if found guilty the former ceo faces a substantial jail sentence. he has firmly declared his innocence.\n"
          ],
          "name": "stdout"
        }
      ]
    },
    {
      "cell_type": "code",
      "metadata": {
        "id": "1UVh-B8PGw0D",
        "colab_type": "code",
        "outputId": "92df47d5-9967-4c7a-a470-7fdc9231f6cf",
        "colab": {
          "base_uri": "https://localhost:8080/",
          "height": 34
        }
      },
      "source": [
        "!cat /tmp/bbc-text.csv | wc -l"
      ],
      "execution_count": 0,
      "outputs": [
        {
          "output_type": "stream",
          "text": [
            "2226\n"
          ],
          "name": "stdout"
        }
      ]
    },
    {
      "cell_type": "code",
      "metadata": {
        "colab_type": "code",
        "id": "EYo6A4v5ZABQ",
        "colab": {}
      },
      "source": [
        "vocab_size = 1000\n",
        "embedding_dim = 16\n",
        "max_length = 120\n",
        "trunc_type = 'post'\n",
        "padding_type = 'post'\n",
        "oov_tok = '<OOV>'\n",
        "training_portion = .8"
      ],
      "execution_count": 0,
      "outputs": []
    },
    {
      "cell_type": "code",
      "metadata": {
        "colab_type": "code",
        "id": "iU1qq3_SZBx_",
        "outputId": "e02da996-af87-44fb-81d8-8fae8af2e7ae",
        "colab": {
          "base_uri": "https://localhost:8080/",
          "height": 34
        }
      },
      "source": [
        "sentences = []\n",
        "labels = []\n",
        "stopwords = [ \"a\", \"about\", \"above\", \"after\", \"again\", \"against\", \"all\", \"am\", \"an\", \"and\", \"any\", \"are\", \"as\", \"at\", \"be\", \"because\", \"been\", \"before\", \"being\", \"below\", \"between\", \"both\", \"but\", \"by\", \"could\", \"did\", \"do\", \"does\", \"doing\", \"down\", \"during\", \"each\", \"few\", \"for\", \"from\", \"further\", \"had\", \"has\", \"have\", \"having\", \"he\", \"he'd\", \"he'll\", \"he's\", \"her\", \"here\", \"here's\", \"hers\", \"herself\", \"him\", \"himself\", \"his\", \"how\", \"how's\", \"i\", \"i'd\", \"i'll\", \"i'm\", \"i've\", \"if\", \"in\", \"into\", \"is\", \"it\", \"it's\", \"its\", \"itself\", \"let's\", \"me\", \"more\", \"most\", \"my\", \"myself\", \"nor\", \"of\", \"on\", \"once\", \"only\", \"or\", \"other\", \"ought\", \"our\", \"ours\", \"ourselves\", \"out\", \"over\", \"own\", \"same\", \"she\", \"she'd\", \"she'll\", \"she's\", \"should\", \"so\", \"some\", \"such\", \"than\", \"that\", \"that's\", \"the\", \"their\", \"theirs\", \"them\", \"themselves\", \"then\", \"there\", \"there's\", \"these\", \"they\", \"they'd\", \"they'll\", \"they're\", \"they've\", \"this\", \"those\", \"through\", \"to\", \"too\", \"under\", \"until\", \"up\", \"very\", \"was\", \"we\", \"we'd\", \"we'll\", \"we're\", \"we've\", \"were\", \"what\", \"what's\", \"when\", \"when's\", \"where\", \"where's\", \"which\", \"while\", \"who\", \"who's\", \"whom\", \"why\", \"why's\", \"with\", \"would\", \"you\", \"you'd\", \"you'll\", \"you're\", \"you've\", \"your\", \"yours\", \"yourself\", \"yourselves\" ]\n",
        "print(len(stopwords))\n",
        "# Expected Output\n",
        "# 153"
      ],
      "execution_count": 0,
      "outputs": [
        {
          "output_type": "stream",
          "text": [
            "153\n"
          ],
          "name": "stdout"
        }
      ]
    },
    {
      "cell_type": "code",
      "metadata": {
        "id": "MN42ja_qTSBv",
        "colab_type": "code",
        "outputId": "e22c8970-0767-41dd-dc90-5c1118fc97ef",
        "colab": {
          "base_uri": "https://localhost:8080/",
          "height": 204
        }
      },
      "source": [
        "!wget --no-check-certificate \\\n",
        "    http://mlg.ucd.ie/files/datasets/stopwords.txt \\\n",
        "    -O stopwords.txt"
      ],
      "execution_count": 0,
      "outputs": [
        {
          "output_type": "stream",
          "text": [
            "--2020-05-20 13:39:26--  http://mlg.ucd.ie/files/datasets/stopwords.txt\n",
            "Resolving mlg.ucd.ie (mlg.ucd.ie)... 137.43.93.132\n",
            "Connecting to mlg.ucd.ie (mlg.ucd.ie)|137.43.93.132|:80... connected.\n",
            "HTTP request sent, awaiting response... 200 OK\n",
            "Length: 1780 (1.7K) [text/plain]\n",
            "Saving to: ‘stopwords.txt’\n",
            "\n",
            "stopwords.txt       100%[===================>]   1.74K  --.-KB/s    in 0s      \n",
            "\n",
            "2020-05-20 13:39:27 (222 MB/s) - ‘stopwords.txt’ saved [1780/1780]\n",
            "\n"
          ],
          "name": "stdout"
        }
      ]
    },
    {
      "cell_type": "code",
      "metadata": {
        "id": "glNaHSTpTYhZ",
        "colab_type": "code",
        "outputId": "aa087439-dbe8-438b-890a-8501cdfa262a",
        "colab": {
          "base_uri": "https://localhost:8080/",
          "height": 34
        }
      },
      "source": [
        "with open('stopwords.txt', 'r') as f:\n",
        "  words = f.readlines()\n",
        "\n",
        "stopwords300 = [w.replace('\\n', '') for w in words]\n",
        "print(len(stopwords300), \" stopwords\")"
      ],
      "execution_count": 0,
      "outputs": [
        {
          "output_type": "stream",
          "text": [
            "300  stopwords\n"
          ],
          "name": "stdout"
        }
      ]
    },
    {
      "cell_type": "code",
      "metadata": {
        "id": "h1gC-0pJKNw5",
        "colab_type": "code",
        "colab": {}
      },
      "source": [
        "def clean_chars(sentences):\n",
        "  \"\"\"Removes special characters from a list of sentences.\"\"\"\n",
        "  special_chars = r'.!@£$%^&*()_+\"={}[]:\"|;\\<>?,./`~`'\n",
        "  parsed_sentences = []\n",
        "\n",
        "  # go through each sentence\n",
        "  # go through each char\n",
        "  # check if char is not part of special_chars and if so, append it to a list of clean chars\n",
        "  # join this list of clean chars to create words\n",
        "  # append this list of words (clean sentence) to the list of new sentences which will be returned\n",
        "\n",
        "  for sentence in sentences:\n",
        "    clean_chars = []\n",
        "\n",
        "    for char in sentence:\n",
        "      if char not in special_chars:\n",
        "        clean_chars.append(char)\n",
        "  \n",
        "    clean_sentence = ''.join(clean_chars)  # space is already a clean char\n",
        "    parsed_sentences.append(clean_sentence)\n",
        "  \n",
        "  return parsed_sentences"
      ],
      "execution_count": 0,
      "outputs": []
    },
    {
      "cell_type": "code",
      "metadata": {
        "id": "d2_4bgf8KPA_",
        "colab_type": "code",
        "colab": {}
      },
      "source": [
        "def remove_stop_words(sentences, stopwords=['']):\n",
        "  parsed_sentences = []\n",
        "\n",
        "  for sentence in sentences:\n",
        "    parsed_words = []\n",
        "\n",
        "    for word in sentence.split(' '):\n",
        "      if word.lower() not in stopwords:\n",
        "        parsed_words.append(word.lower())\n",
        "\n",
        "    parsed_sentence = ' '.join(parsed_words)\n",
        "    parsed_sentence = parsed_sentence.replace (\"  \", \" \")\n",
        "    parsed_sentences.append(parsed_sentence)\n",
        "\n",
        "  return parsed_sentences"
      ],
      "execution_count": 0,
      "outputs": []
    },
    {
      "cell_type": "code",
      "metadata": {
        "id": "Kf5wq8QEKYKx",
        "colab_type": "code",
        "colab": {}
      },
      "source": [
        "def get_num_words(corpus):\n",
        "  sum = 0\n",
        "  for document in corpus:\n",
        "    sum += len(document.split(' '))\n",
        "  print(sum)"
      ],
      "execution_count": 0,
      "outputs": []
    },
    {
      "cell_type": "code",
      "metadata": {
        "colab_type": "code",
        "id": "eutB2xMiZD0e",
        "outputId": "df2ad575-9f25-484e-ea3e-de3a89556385",
        "colab": {
          "base_uri": "https://localhost:8080/",
          "height": 88
        }
      },
      "source": [
        "with open(\"/tmp/bbc-text.csv\", 'r') as f:\n",
        "    reader = csv.DictReader(f)\n",
        "    for row in reader:\n",
        "      labels.append(row['category'])\n",
        "      sentences.append(row['text'])\n",
        "\n",
        "\n",
        "sentences_clean_chars = clean_chars(sentences)\n",
        "sentences = remove_stop_words(sentences_clean_chars, stopwords=stopwords300)\n",
        "\n",
        "print(len(labels))\n",
        "print(len(sentences))\n",
        "print(sentences[0])\n",
        "# Expected Output\n",
        "# 2225\n",
        "# 2225\n",
        "# tv future hands viewers home theatre systems  plasma high-definition tvs  digital video recorders moving living room  way people watch tv will radically different five years  time.  according expert panel gathered annual consumer electronics show las vegas discuss new technologies will impact one favourite pastimes. us leading trend  programmes content will delivered viewers via home networks  cable  satellite  telecoms companies  broadband service providers front rooms portable devices.  one talked-about technologies ces digital personal video recorders (dvr pvr). set-top boxes  like us s tivo uk s sky+ system  allow people record  store  play  pause forward wind tv programmes want.  essentially  technology allows much personalised tv. also built-in high-definition tv sets  big business japan us  slower take off europe lack high-definition programming. not can people forward wind adverts  can also forget abiding network channel schedules  putting together a-la-carte entertainment. us networks cable satellite companies worried means terms advertising revenues well  brand identity  viewer loyalty channels. although us leads technology moment  also concern raised europe  particularly growing uptake services like sky+.  happens today  will see nine months years  time uk   adam hume  bbc broadcast s futurologist told bbc news website. likes bbc  no issues lost advertising revenue yet. pressing issue moment commercial uk broadcasters  brand loyalty important everyone.  will talking content brands rather network brands   said tim hanlon  brand communications firm starcom mediavest.  reality broadband connections  anybody can producer content.  added:  challenge now hard promote programme much choice.   means  said stacey jolna  senior vice president tv guide tv group  way people find content want watch simplified tv viewers. means networks  us terms  channels take leaf google s book search engine future  instead scheduler help people find want watch. kind channel model might work younger ipod generation used taking control gadgets play them. might not suit everyone  panel recognised. older generations comfortable familiar schedules channel brands know getting. perhaps not want much choice put hands  mr hanlon suggested.  end  kids just diapers pushing buttons already - everything possible available   said mr hanlon.  ultimately  consumer will tell market want.   50 000 new gadgets technologies showcased ces  many enhancing tv-watching experience. high-definition tv sets everywhere many new models lcd (liquid crystal display) tvs launched dvr capability built  instead external boxes. one example launched show humax s 26-inch lcd tv 80-hour tivo dvr dvd recorder. one us s biggest satellite tv companies  directtv  even launched branded dvr show 100-hours recording capability  instant replay  search function. set can pause rewind tv 90 hours. microsoft chief bill gates announced pre-show keynote speech partnership tivo  called tivotogo  means people can play recorded programmes windows pcs mobile devices. reflect increasing trend freeing multimedia people can watch want  want."
      ],
      "execution_count": 0,
      "outputs": [
        {
          "output_type": "stream",
          "text": [
            "2225\n",
            "2225\n",
            "tv future hands viewers home theatre systems plasma high-definition tvs digital video recorders moving living room way people watch tv radically different five years time expert panel gathered annual consumer electronics show las vegas discuss technologies impact one favourite pastimes leading trend programmes content delivered viewers home networks cable satellite telecoms companies broadband service providers front rooms portable devices one talked-about technologies ces digital personal video recorders dvr pvr set-top boxes s tivo uk s sky system allow people record store play pause forward wind tv programmes want essentially technology allows personalised tv built-in high-definition tv sets big business japan slower take europe lack high-definition programming people forward wind adverts forget abiding network channel schedules putting a-la-carte entertainment networks cable satellite companies worried means terms advertising revenues brand identity viewer loyalty channels leads technology moment concern raised europe particularly growing uptake services sky happens today see nine months years time uk  adam hume bbc broadcast s futurologist told bbc news website likes bbc issues lost advertising revenue pressing issue moment commercial uk broadcasters brand loyalty important everyone talking content brands network brands  tim hanlon brand communications firm starcom mediavest reality broadband connections anybody producer content added challenge hard promote programme choice  means stacey jolna senior vice president tv guide tv group way people find content want watch simplified tv viewers means networks terms channels take leaf google s book search engine future scheduler help people find want watch kind channel model work younger ipod generation control gadgets play suit everyone panel recognised older generations comfortable familiar schedules channel brands know getting want choice put hands hanlon suggested  kids just diapers pushing buttons - everything possible available  hanlon ultimately consumer tell market want  50 000 gadgets technologies showcased ces enhancing tv-watching experience high-definition tv sets models lcd liquid crystal display tvs launched dvr capability built external boxes one example launched show humax s 26-inch lcd tv 80-hour tivo dvr dvd recorder one s biggest satellite tv companies directtv launched branded dvr show 100-hours recording capability instant replay search function set pause rewind tv 90 hours microsoft chief bill gates announced pre-show keynote speech partnership tivo called tivotogo means people play recorded programmes windows pcs mobile devices reflect increasing trend freeing multimedia people watch want want\n"
          ],
          "name": "stdout"
        }
      ]
    },
    {
      "cell_type": "code",
      "metadata": {
        "id": "zoPfSi9NKbJt",
        "colab_type": "code",
        "outputId": "9b420b6c-ee72-4991-8e1d-34c19740338c",
        "colab": {
          "base_uri": "https://localhost:8080/",
          "height": 34
        }
      },
      "source": [
        "# num words in complete sentences\n",
        "get_num_words(sentences)"
      ],
      "execution_count": 0,
      "outputs": [
        {
          "output_type": "stream",
          "text": [
            "476726\n"
          ],
          "name": "stdout"
        }
      ]
    },
    {
      "cell_type": "code",
      "metadata": {
        "id": "YYGeX8ayLVyC",
        "colab_type": "code",
        "outputId": "159c3621-952b-461d-fdcc-1f336cda1669",
        "colab": {
          "base_uri": "https://localhost:8080/",
          "height": 34
        }
      },
      "source": [
        "# num words in sentences without stopwords\n",
        "get_num_words(sentences)"
      ],
      "execution_count": 0,
      "outputs": [
        {
          "output_type": "stream",
          "text": [
            "476726\n"
          ],
          "name": "stdout"
        }
      ]
    },
    {
      "cell_type": "code",
      "metadata": {
        "id": "mhpe-x4AIpru",
        "colab_type": "code",
        "colab": {}
      },
      "source": [
        "def train_test_split(sentences, labels, pct_train, shuffle=False, seed=None):\n",
        "  \n",
        "  size = int(pct_train * len(sentences))\n",
        "\n",
        "  if shuffle==True:\n",
        "\n",
        "    import random\n",
        "    random.seed(seed)\n",
        "    idx = list(range(len(sentences)))\n",
        "    random.shuffle(idx)\n",
        "    sentences = [sentences[i] for i in idx]\n",
        "    labels    = [labels[i] for i in idx] \n",
        "\n",
        "  training_sentences = sentences[:size]\n",
        "  training_labels    = np.array(labels[:size])\n",
        "\n",
        "  testing_sentences  = sentences[size:]\n",
        "  testing_labels     = np.array(labels[size:])\n",
        "\n",
        "  print(\"train data:\", len(training_sentences), len(training_labels))\n",
        "  print(\"testing data:\", len(testing_sentences), len(testing_labels))\n",
        "\n",
        "  return training_sentences,training_labels, testing_sentences, testing_labels"
      ],
      "execution_count": 0,
      "outputs": []
    },
    {
      "cell_type": "code",
      "metadata": {
        "colab_type": "code",
        "id": "XfdaWh06ZGe3",
        "outputId": "c9a970bb-5138-4eb4-8d8e-de80fdbd3e26",
        "colab": {
          "base_uri": "https://localhost:8080/",
          "height": 136
        }
      },
      "source": [
        "train_size = .8\n",
        "\n",
        "train_sentences, train_labels, validation_sentences, validation_labels = train_test_split(sentences, \n",
        "                                                                                          labels, \n",
        "                                                                                          pct_train = 0.80, \n",
        "                                                                                          shuffle=True, \n",
        "                                                                                          seed=3)\n",
        "\n",
        "print(train_size)\n",
        "print(len(train_sentences))\n",
        "print(len(train_labels))\n",
        "print(len(validation_sentences))\n",
        "print(len(validation_labels))\n",
        "\n",
        "# Expected output (if training_portion=.8)\n",
        "# 1780\n",
        "# 1780\n",
        "# 1780\n",
        "# 445\n",
        "# 445"
      ],
      "execution_count": 0,
      "outputs": [
        {
          "output_type": "stream",
          "text": [
            "train data: 1780 1780\n",
            "testing data: 445 445\n",
            "0.8\n",
            "1780\n",
            "1780\n",
            "445\n",
            "445\n"
          ],
          "name": "stdout"
        }
      ]
    },
    {
      "cell_type": "code",
      "metadata": {
        "id": "TJY0tgBrJZZ3",
        "colab_type": "code",
        "outputId": "8fbd93b2-624b-4b53-a3b6-ff9b9426914e",
        "colab": {
          "base_uri": "https://localhost:8080/",
          "height": 34
        }
      },
      "source": [
        "set(labels)"
      ],
      "execution_count": 0,
      "outputs": [
        {
          "output_type": "execute_result",
          "data": {
            "text/plain": [
              "{'business', 'entertainment', 'politics', 'sport', 'tech'}"
            ]
          },
          "metadata": {
            "tags": []
          },
          "execution_count": 79
        }
      ]
    },
    {
      "cell_type": "code",
      "metadata": {
        "id": "K7zd0iMnJifP",
        "colab_type": "code",
        "colab": {}
      },
      "source": [
        "import pandas as pd"
      ],
      "execution_count": 0,
      "outputs": []
    },
    {
      "cell_type": "code",
      "metadata": {
        "id": "b5iGN9GAJlT8",
        "colab_type": "code",
        "colab": {}
      },
      "source": [
        "s = pd.Series(train_labels)"
      ],
      "execution_count": 0,
      "outputs": []
    },
    {
      "cell_type": "code",
      "metadata": {
        "id": "TGlzcTnWJpDl",
        "colab_type": "code",
        "outputId": "e92e98e7-80fc-4a0e-cd41-a85f493026e4",
        "colab": {
          "base_uri": "https://localhost:8080/",
          "height": 119
        }
      },
      "source": [
        "s.value_counts(normalize=True)"
      ],
      "execution_count": 0,
      "outputs": [
        {
          "output_type": "execute_result",
          "data": {
            "text/plain": [
              "sport            0.234270\n",
              "business         0.230899\n",
              "politics         0.182022\n",
              "tech             0.178652\n",
              "entertainment    0.174157\n",
              "dtype: float64"
            ]
          },
          "metadata": {
            "tags": []
          },
          "execution_count": 82
        }
      ]
    },
    {
      "cell_type": "code",
      "metadata": {
        "id": "4q0_n_6ELfr8",
        "colab_type": "code",
        "outputId": "b834ad8c-be97-487a-b77b-eb061484c090",
        "colab": {
          "base_uri": "https://localhost:8080/",
          "height": 564
        }
      },
      "source": [
        "for i in range(15):\n",
        "  print(train_sentences[i], \"\\t\", train_labels[i])\n",
        "print(\"-\" * 50)\n",
        "\n",
        "for i in range(15):\n",
        "  print(validation_sentences[i], \"\\t\", validation_labels[i])"
      ],
      "execution_count": 0,
      "outputs": [
        {
          "output_type": "stream",
          "text": [
            "george michael perform bbc george michael perform live london s abbey road studios part bbc radio 2 special month session broadcast 18 december see talk biggest hits came michael s appearance part station s sold song initiative explores art songwriting station confirmed chris tarrant hosting one-off year s eve programme left london s capital fm year 17 years former breakfast show host - attracted highest ratings britain despite broadcasting london - offer individual take year two-hour show great fun  tarrant i fantastic year i know lots people i m definitely looking forward radio 2 christmas specials radio 2 include singer jamelia hosting christmas day concert london community gospel choir actor christopher lee read fireside tales likes edgar allan poe e nesbit ambrose bierce comedian harry hill host spoof nostalgia show christmas day singer jamie cullum perform live concert station \t entertainment\n",
            "movie body hits peer-to-peer nets movie industry struck file-sharing networks round lawsuits motion picture association america mpaa succeeded getting network called lokitorrent closed latest network uses peer-to-peer system called bittorrent hit mpaa mpaa began legal campaign against operators similar networks four continents december dallas court agreed hollywood lawyers allowed access lokitorrent s server records single sharing files illegally october 2004 site provided links 30 000 files action came operators lokitorrent agreed settlement mpaa stark message appeared site mpaa warning click t hide bittorrent systems server sites host files shared host links called trackers direct people filing unspecified number file suits mpaa given operators host edonkey servers take notices hollywood studios aggressively clamping file-sharers says infringe copyright laws copying films tv programmes share files online targeting operators bittorrent networks filed 100 lawsuits against operators bittorrent server sites december strategy hitting run servers link copyrighted material intended stunt file-sharers ability swap content bittorrent systems film industry says black market illegally copied videos dvds costs billions year worried illegal file-sharing adding losses december legal action claimed high-profile victim popular suprnovaorg website forced close phoenix torrent followed soon \t tech\n",
            "venezuela reviews foreign deals venezuela review foreign investment mining industries effort strengthen indigenous industrial output president hugo chavez ordered existing contracts foreign firms examined see provide maximum benefits country review cover production gold aluminium iron ore excludes country s oil sector chavez sought extend state s role sectors economy left-wing president conducting controversial review land ownership country seeking create state-run telecoms firm compete foreign-owned businesses argued major economic reforms vital improve lives venezuela s poorest citizens announcing review raw material production minister victor alvarez government seek transfer technology training capability content projects foreign partners defending national sovereignty national resources serve endogenous development nation  alvarez reason reviewing memorandums understanding letters intent agreements signed contracts check comply directives everything absolutely everything reviewed  venezuela previously assured foreign companies operations mineral rich country respects existing contracts government insisted needed develop industrial infrastructure order create jobs lessen reliance foreign partners t just going carry slaves suppliers raw materials lives develop productive capacity  alvarez added companies united states canada france switzerland substantial investments venezuela s mining sector \t business\n",
            "brazil plays varig rescue brazilian government played claims step save country s biggest airline brazil s airport authority chief carlos wilson claimed government brink stepping save varig brazil s flagship airline country s vice president jose alencar government looking solution varig struggling huge debt burden estimated debt 65 billion reais 23bn 12bn asked rescue cards following meeting country s congress discuss airline s crisis alencar replied  i t think see  earlier wilson president luiz inacio lula da silva decided step decree kind intervention signed week practice intervention technical name  intervention means government take administrative control company finances happen varig s main shareholder non-profit ruben berta foundation represents airline s employees removed wilson jobs lost airline keep flying added varig operates 18 countries apart brazil driven brink collapse country s economic downturn depreciation brazil s currency direct impact airline s dollar debt costs business improved recently demand air travel increasing recovery brazilian economy airline win sizeable windfall compensation claim against government tuesday courts awarded varig 2bn reais 725m ruling favour compensation claim against government freezing tariffs 1985 1992 government appeal decision \t business\n",
            "downloads enter singles chart digital music downloads included main singles chart first time billboard s hot 100 chart incorporates data sales music downloads previously assigned separate download chart green day s boulevard broken dreams currently number two billboard s pop chart tops digital chart download sales due incorporated uk singles chart year digital sales compile billboard s hot digital sales chart tallied sales physical singles airplay information hot 100 chart second chart - pop 100 - combines airplay digital physical sales confines airplay information radio stations play chart music addition green day artists current digital sales top 10 include kelly clarkson game killers sales legally downloaded songs shot tenfold 2004 200 million track purchased online europe 12 months international federation phonographic industry ifpi reported month uk sales song downloads overtook physical singles first time year week december 2004 saw download sales 312 000 compared 282 000 physical singles british phonographic industry uk s first official music download chart launched september compiling popular tracks downloaded legal uk sites - including itunes od2 mycokemusiccom napster westlife s flying wings - 1999 track reissued occasion - first number one uk download chart spokesman british phonographic industry bpi first combined uk download sales chart due compiled first half year  work going music business right sure chart works plan  bpi spokesman described uk music download chart compiled official charts company having great success launch provided focus industry really driven interest downloads music fans  \t entertainment\n",
            "radcliffe answer gb call paula radcliffe granted extra time decide compete world cross-country championships 31-year-old concerned event starts 19 march france upset preparations london marathon 17 april question paula huge asset gb team  zara hyde peters uk athletics working accommodate worlds compromise marathon training radcliffe decision tuesday - deadline team nominations british team member hayley yelling team understand radcliffe opted event fantastic paula team  european cross-country champion remember athletics basically individual sport achieved team bonus messing understand problem radcliffe world cross-country champion 2001 2002 missed year s event injury absence gb team bronze brussels \t sport\n",
            "blair told double overseas aid tony blair urged negotiating powers poor countries debt double aid 45 million children die needlessly before 2015 aid budgets half 1960 levels oxfam says report paying price call comes prime minister prepares assume presidency g8 top industrialised nations rich countries get richer giving scandal  oxfam s barbara stocking  world s poorest children paying rich countries policies aid debt lives 2005 offers chance historic breakthrough world leaders act year shameful failure  charity s director added report rich countries providing aid help global poverty obligation matter justice act charity points 1970 g8 top industrialised nations agreed spend 07 incomes aid 34 years organisations members reached target set timetable report says argues price investing poor countries sustainable development felt world report global poverty threatens shared prosperity security environmental crises natural disasters disease drug trafficking know national borders poverty heightens likelihood conflict unrest threats peace security rich nations arise poverty gross inequalities criminal terrorist networks operate state institutions weak  prime minister chancellor gordon brown called urgent action fight world poverty blair described africa scar world s conscience tackling world poverty one g8 priorities climate change aids epidemic brown pledged write debt owed britain world s poor nations spokeswoman department international development government clear commitment reaching 07 gross national income overseas development aid 2013 britain s proposal international finance facility adopted objective 07 achieved earlier 2008-09 additional resources increase uk bilateral aid africa least 125bn year 2008 spend least 15bn hivaids related work three years \t politics\n",
            "yukos accused lying court russian oil firm yukos lied court attempt russian government selling key production unit court heard unit yugansk sold pay 275bn 145bn back tax bill yukos argued subsidiary local bank accounts court declare bankrupt auction yugansk deutsche bank - target yukos lawsuit - documents backdated strengthen case deutsche bank s evidence came first day two-day hearing houston lawyer hugh ray told court yukos claimed transferred 27m two texas bank accounts opened subsidiary doing  firm intended reinforce presence - chances getting case heard courts papers documenting transaction drawn till weeks yukos bankruptcy application 14 december backdated yukos chief financial officer bruce misamore moved december set yukos usa acknowledged point discrepancy paperwork money transferred 14 december told court 480 000 accounts day rest arriving day deutsche bank involved case sued yukos agreed loan arm russian state gas firm gazprom money bid yuganskneftegaz yukos unit formally known sale went ahead despite order bankruptcy court ordered stopped auction unknown shell company 94bn - assessments value - before hands state-controlled oil firm rosneft rosneft  agreed merge gazprom bringing large chunk russia s profitable oil business back state control yukos maintains filed bankruptcy feared able russia event going bust offer chance restructuring gives kind life death alternative  yukos chief executive steven theede yukos currently suing four companies - gazprom unit gazpromneft rosneft shell company bidding - part yugansk s disposal threatened sue russian government 28bn analysts questioned court jurisdiction russian companies moscow officials dismissed yukos legal wrangling meaningless yukos claims rights shareholders ignored punished political ambitions founder mikhail khodorkovsky khodorkovsky russia s richest man prison having charged fraud tax evasion repeatedly denied bail \t business\n",
            "bank boss hails genius smith federal reserve chairman alan greenspan given speech scottish church honour pioneering economist adam smith delivered 14th adam smith lecture kirkcaldy fife adam smith lecture celebrates author 1776 s wealth nations bible capitalism dr greenspan invited chancellor gordon brown minister father john preach st bryce kirk church brown introduced dr greenspan 400 invited guests world s greatest economist dr greenspan 79 uk attend g7 meeting london world repay debt gratitude owed smith genius compared mozart philosopher towering contributor modern world  kirkcaldy birthplace 1723 adam smith extension modern economics course chancellor reared i led ponder extent chancellor s renowned economic financial skills result exposure subliminal intellect-enhancing emanation area continued smith reached far beyond insights predecessors frame global view market economics just emerging worked doing supported changes societal organisation measurably enhance standards living  dr greenspan smith s revolutionary philosophy human self-interest laissez-faire economics competition force good world incredible insights handful intellectuals enlightenment - especially smith toiling environs kirkcaldy - created modern vision people free choose act individual self-interest  following lecture dr greenspan - received honorary knighthood queen balmoral 2002 - awarded honorary fellowship royal society edinburgh opened exhibition dedicated smith atrium fife college higher education joyce johnston principal college  fitting world s premier economist delivered lecture tribute world s first economist dr greenspan - chairman federal reserve unprecedented fifth term june 2004 - step january year served presidents george w bush bill clinton george bush ronald reagan chairman council economic advisors gerald ford \t business\n",
            "trade gap ballooned october trade deficit widened expected october hitting record levels higher oil prices raised import costs figures shown trade shortfall 555bn 29bn 9 september commerce department pushed 10 month deficit 5005bn imports rose 34 exports increased 06 weaker dollar increased cost imports help drive export demand coming months things getting worse s expected  david wyss standard poor s york first thing dollar goes increases price imports seeing improved export orders things going right direction  despite optimism significant concerns remain fund trade budget deficits continue widen problem highlighted analysts growing trade gap china accused keeping currency artificially weak order boost exports imported 20bn worth goods china october exporting little 3bn key worry existed currency market remains  anthony crescenzi bond strategist miller tabak york trade deficit shortfall china big issues going forward commerce department figures caused dollar weaken despite widespread expectations federal reserve raise interest rates fifth time year borrowing costs tipped rise quarter percentage point 225 fed meeting tuesday \t business\n",
            "gb select holmes double bid kelly holmes chosen 800m 1500m month s european indoor championships - despite confirming availability double-olympic champion undecided compete first european indoors madrid uk athletics chief max jones believes holmes race s worth punt t s gone back training s confident pick one distance programme permit holmes take place gb side indicated 1500m favoured distance championship rules decide 24 hours before event begins madrid 4 march jones added pleased run birmingham weekend s grand prix i inclined think compete depend training goes close top form admitted holmes presence great boost rest norwich union gb team good team member good  added surprises rest great britain team announced tuesday defending 60m champion jason gardener included chasing third successive gold medal joined event mark lewis-francis - runner-up behind three years ago vienna - boy darren chin kelly sotherton invited championship organisers compete against carolina kluft pentathlon sotherton finished third olympic heptathlon athens swede took gold 16 newcomers level competition gb s 46-strong team championships attended jones before retires succeeded dave collins jones olympic games overwhelming target uka beneficial start four-year cycle not-so-pressurised major games european indoor championships provide chance young inexperienced name current indoor season produced exciting talent madrid first small step long journey beijing 2008 olympics emerging athletes important step  60m d chin belgrave harriers j gardener wessex bath m lewis-francis birchfield harriers t abeyie woodford green essex ladies c lambert belgrave harriers d garland channel islands ac j mcilroy windsor slough eton hounslow ac jimmy watkins cardiff aac ed jackson aldershot farnham district n speaight belgrave harriers j thie cardiff aac baddeley harrow ac m farah windsor slough eton hounslow ac j mayock barnsley ac d greaves newham essex beagles scott shaftesbury barnet harriers turner notts ac b challenger belgrave harriers pole vault n buckfield crawley ac n morgan birchfield harriers c tomlinson newham essex beagles l achike shaftesbury barnet harriers n douglas oxford city ac p idowu belgrave harriers d cossins birchfield harriers r davenport gloucester ac d garland channel islands ac r preddy gloucester ac g warburton cardiff aac k endacott city plymouth ac j kwakye woodford green essex ladies j maduaka woodford green essex ladies k wall basildon ac k holmes ealing southall middlesex ac h clitheroe preston harriers k holmes ealing southall middlesex ac j pavey exeter harriers d allahgreen trafford ac s claxton belgrave harriers j crane sale harriers manchester s jones trafford ac j whitlock trafford ac j johnson herne hill harriers k sotherton birchfield harriers d fraser croydon harriers l mcconnell shaftesbury barnet harriers c murphy woodford green essex ladies m purkiss southampton ac \t sport\n",
            "bellamy fined row newcastle fined welsh striker craig bellamy two weeks wages - 80 000 - following row manager graeme souness bellamy 25 put transfer list train first team tuesday magpies chairman freddy shepherd told newcastle evening chronicle money player thinking bigger club individual chairman manager player souness dropped bellamy sunday s game against arsenal claiming welshman feigned injury asked play position i heard manager saying i shock  bellamy i thought gone behind back s lying  response souness remarks wales international refused apologise i t apologise i done nothing wrong  told evening chronicle s doubt i difficult relationship souness bellamy boiled weekend led war words media bellamy s claim souness lied background bust-up strongly denied shepherd accused striker cheating club i wish put record straight regarding bellamy situation  shepherd craig walked training ground saying hamstring tight friday failed reveal told members squad before training intended feign injury graeme discovered immediately ordered bellamy attend meeting office meeting bellamy admitted graeme i told players going fake injury training walk agreed meeting apologise team-mates behaviour t resulted action taken manager weekend i fully support book cheating club supporters manager team-mates paid extremely i consider behaviour totally unacceptable totally unprofessional  bellamy s latest outburst appear chances first-team recall remote before newcastle player sold bellamy insisted intention handing transfer request i t want fans think one minute i t play club  i d play club goal s difficult situation moment i d ask leave club club means i t i know i t back play against newcastle hurt \t sport\n",
            "eu-us seeking deal air dispute eu agreed talks subsidies given aircraft makers eu trade commissioner peter mandelson announced sides hope reach negotiated deal state aid received european aircraft maker airbus rival boeing mandelson airbus boeing accuse benefiting illegal subsidies mandelson eu hoped avoid having resolve dispute world trade organisation wto  agreement eu confirmed willingness resolve dispute arisen  mandelson i hope negotiations three months lead agreement subsidies development production large civil aircraft year terminated agreement eu reached 1992 limits subsidies countries hand civil aircraft makers filed complaint against brussels wto state aid airbus prompting retaliatory eu complaint support boeing sides agreed suspend requests wto arbitration beginning december allow bilateral talks continue eads bae systems european defence aerospace firms airbus welcomed mandelson s announcement preferable differences europe matter overcome constructive discussion legal recourse  companies joint statement separately world s largest package delivery company ups placed order 10 airbus a380 superjumbo freight-carrying jets option buy 10 triple-decker aircraft company needed expand air freight capacity following strong international growth receiving deliveries a380s 2009 ups cutting previous order smaller airbus a300s 90 planes 53 far airbus delivered 40 a300s ups airbus overtook boeing world s largest manufacturer commercial airliners 2003 \t business\n",
            "budget deficit reach 368bn budget deficit set hit worse-than-expected 368bn 197bn year officials tuesday cost military operations needs factored analysts saying deficit 100bn red past congressional budget office cbo forecasts 348bn shortfall 2005 fiscal year recent months dollar weakened amid market jitters size budget trade deficits november gap exports imports widened 60bn record figure cbo says envisages orderly decline greenback two years twin deficit drives dollar investors away non-partisan fiscal watchdog notes declines help exporters boost economic growth budget deficit hit record 412bn 12 months 30 september 2004 reaching 377bn previous fiscal year cbo forecast total shortfall 855bn years 2006 2015 improvement previous projections analysts figures fail take account potential 2-38 trillion costs president s plan revamp state pensions extend tax cuts figure worsened military costs republicans blamed size deficit slow economic conditions 11 september attacks ongoing military operations iraq afghanistan one president george w bush s election pledges halve budget deficit five years democrats accused president excluding iraq-related costs previous budgets meet aim reducing deficit charge administration denies tuesday administration asked congress additional funds military operations \t business\n",
            "federer claims dubai crown world number one roger federer added dubai championship trophy long list successes - before given test ivan ljubicic top seed federer looked course easy victory thumped eighth seed 6-1 first set ljubicic beat tim henman eight dug deep secure second set tense tiebreak swiss star federer lose cool  turning style win deciding set 6-3 match re-run week s final world indoor tournament rotterdam federer triumphed ljubicic stretched five sets i really wanted get good start time i i really play confidence looking rhythm  federer  took way 6-1 3-1 0-30 serve i ran away came back good effort side ljubicic loss explain poor showing first set i t start badly suddenly i felt racket loose balls flying little bit roger relax second just goes quick  first three games match i t know really weird i playing really year suddenly i trouble just put ball court despite defeat world number 14 pleased overall performance i chance third s really positive twice two weeks chance against roger win match s absolutely great boost confidence i m belong top-class players \t sport\n",
            "--------------------------------------------------\n",
            "call save manufacturing jobs trades union congress tuc calling government stem job losses manufacturing firms reviewing help gives companies tuc submission before budget action needed 105 000 jobs lost sector year calls better pensions child care provision decent wages 36-page submission urges government examine support european countries provide industry tuc general secretary brendan barber called commitment policies real difference lives working people  greater investment childcare strategies people delivering childcare increases options available working parents  commitment public services manufacturing sector ensures continue compete global level deliver frontline services country needs called practical measures help pensioners especially women retire poverty submission calls decent wages training people working manufacturing sector \t business\n",
            "cherie accused attacking bush cherie blair accused criticising george w bush s policies private address gave united states lecture tour prime minister s wife praised supreme court overruling white house legal rights guantanamo bay detainees tories broke convention british political figures act partisan way abroad downing street speaking capacity lawyer expressing political opinions blair s remarks speech law students massachusetts decision supreme court give legal protection two britons held guantanamo bay significant victory human rights international rule law described legal code outdated grandfather clock welcomed decision throw law backed bush relating sodomy texas bbc news correspondent gary o donoghue blair face calls restraint election imminent objections people reasonably close bush administration making comments backyard just two days before presidential election  conservatives feelings clear cherie booth regarded herself having independent career continued practise major human rights lawyer courts s unusual sorts criticisms clear embarrassing \t politics\n",
            "super union merger plan touted two britain s big trade unions merge form super union two million members move amicus transport general workers union tgwu seen bid carry weight ministers employers amicus 12 million members tgwu 800 000 merger approved unions executives membership understood meetings held wednesday proposal gmb unison tgwu amicus worked closely year hammer 56-point deal labour s leadership equality work holidays pensions - warwick agreement unions remaining tight-lipped merger rumours one insider pointed bbc news website denying suggestions merger agenda two unions executives hold meetings wednesday amicus s executive due meet case tgwu holding specially scheduled talks \t politics\n",
            "student fee factor played rise recorded number students south border applying universities scotland  lifelong learning minister jim wallace result scottish students missing applications england wales rose 17 january 2005 previous year 23 600 27 700 fears expressed flood fee refugees try avoid top-up fees 3 000 year introduced england june year wallace announced proposals increase tuition fees english students studying scotland 2 000 attempt prevent cross-border flood figure agreed legislation introduce top-up fees england due take effect autumn 2006 students start before pay additional fees figures public thursday admissions service ucas universities scotland represents university principals claimed increase applications amount scottish students squeezed director david caldwell students applying attempt avoid possible increase annual fees english universities major factor told bbc radio scotland s good morning scotland programme reason people opting scottish universities perceived high quality offer attractive courses scotland seen attractive place study  know take studies 2006 hit top-up fees going university england part reason numbers coming scotland inflated  mean see thousands additional students england studying wallace agreed figures looked context explained applications translated acceptances number huge - additional figure 200  picture blurred fact applications wales plans top-up fees risen 19 wallace accepting students parts world show high regard scottish higher education held just britain want sure students making choice nature course sort financial pressure go scotland want situation impossible scottish students get places scottish universities seen cheap option quality university experience enhanced fact students coming wide range backgrounds wrong go way start excluding students \t politics\n",
            "rich pickings hi-tech thieves viruses trojans malicious programs sent net catch undergoing subtle change shift happening tech savvy criminals turn technology help con people cash steal valuable data take home pcs viruses written headlines infecting millions getting rarer programs crafted directly criminal ends firms tightening networks defences combat wave malicious code growing criminal malware meant neat categorisation different sorts viruses malicious programs before broadly possible name categorise viruses method spread infect machines viruses written criminals roll lots technical tricks one nasty package  put neat little box  pete simpson head threat laboratory security firm clearswift viruses just spread worms exploit loopholes browsers hide e-mail message attachments s outright criminality  simpson explaining change criminal programs came eastern europe cash-rich organised gangs find ready supply technical experts crank code order former virus writer marek strihavka aka benny 29a virus writing group recently quit malware scene partly taken spyware writers phishing gangs spammers interested money technology longer virus writers produce programs show technical prowess rivals underground world malware authors least paul king principal security consultant cisco defences against attacks common ways least way e-mail got anti-virus firewalls  malicious programs written hi-tech thieves cleverly written pragmatic tried tested techniques infect machines trick users installing program handing important data think criminals clever  king  just works  tactics malicious programs change king firms changing way defend scan machines connect corporate networks ensure compromised core network machine connect worker get job before latest patches settings uploaded different tactics criminals technology reasons transparent main motivation money  gary stowell spokesman st bernard software stowell organised crime gangs turning computer crime risks caught low rates return high phishing spyware attack criminals guaranteed catch people contacts exploit recover so-called spyware proving popular criminals allowed take machines ends steal key data users hijack web browsing sessions point people particular sites cases spyware written searched rival malicious programs pcs infects trying erase sole ownership machine \t tech\n",
            "ray dvd beats box office takings oscar-nominated film biopic ray surpassed box office takings combined tally 80m 43m dvd video sales rentals ray s success dvd outstripped 74m 40m box office total earning 40m 22m first day dvd s release alone ray nominated six oscar categories including best film best actor jamie foxx film recounts life blues singer ray charles died 2004 first week home entertainment release film number one selling dvd limited edition version coming number 11 sony horror film grudge starring michelle gellar  second best-selling dvd jennifer lopez richard gere s romantic comedy shall dance number three foxx s critically acclaimed performance ray earned screen actors guild award best actor prestigious golden globe ray director taylor hackford responsible classic 1982 film officer gentleman received oscar nomination best director category film s three oscar nominations costume film editing sound mixing \t entertainment\n",
            "crisis ahead social sciences national body designed tackle skills shortages key subjects set committee mps  absolute crisis recruitment statisticians social science experts commons science technology committee added major problems expected 10 years social science workforce continues age committee reporting work strategy spending plans economic social research council council aims promote support strategic research social science postgraduates provide social scientists meet needs country liaises government industry social science needs report council s work committee deeply concerned skills shortages afflicting particular qualitative branches social sciences mirrored previous concerns committee expressed shortages fields maths chemistry  hard see significant progress rectifying shortages deployment economic social research council s limited resources government serious addressing skills shortages key subjects needs find effective mechanism achieve national strategic capabilities fund address shortages key areas set response committee added \t politics\n",
            "mps demand budget leak answers ministers asked explain budget details printed london newspaper half hour before gordon brown speech tories large chunk budget appeared leaked describe serious breach treasury confidentiality lib dems called commons leader peter hain statement chancellors resigned leaks told brought speaker michael martin s attention commons tory frontbencher andrew tyrie mp demanded immediate ministerial statement measures clearly least apparently leaked evening standard  raising point order  latest long line discourtesies house  breach confidentiality i hope unintentional planned grave matter previous labour chancellor resigned leaked budget hugh dalton resigned leaking details 1947 budget journalist john carvel published london newspaper just minutes before announced house commons liberal democrat david laws serious matter hain statement thursday deputy speaker sylvia heal agreed concern nothing done immediately issue brought martin s attention \t politics\n",
            "video phone help deaf people deaf people prefer communicate british sign language bsl soon having phone conversations relayed webcams videophones interpreter video relay service piloted royal national institute deaf people rnid organisation says service provided rate voice calls beyond people s pockets rnid urging telecoms regulator ofcom reduce cost service current 700 minute ordinary phone calls service works putting deaf person visual contact bsl interpreter webcam video phone interpreter relays deaf person s conversation telephone translates person s response sign language deaf people especially born deaf bsl first preferred means communication  alternative textphones means having type message relayed operator past i textphones problems  robert currington part pilot i communicate bsl written english good takes longer think english type message  i sometimes find difficult understand reply rnid says uk lagging behind countries making relay services available cost ordinary phone call technical economic reasons providing equivalent access services deaf people  rnid technology director guido gybels australia sign language relay services universally available cost voice call failing provide fund video relay service sign language users telecommunications sector effectively discriminating against disenfranchised group  ofcom says plans review services telecoms companies obliged provide year technology including video relay service discussed interested parties future spokesman powers limited legislation proposals extend existing arrangements cover services government consider  currington uk s 70 000 bsl users hoping way cost-effective service available relay service phone conversations pleasure  i show emotions easily bsl way hearing people express emotions voice calls \t tech\n",
            "spain coach faces racism inquiry spain s football federation initiated disciplinary action against national coach luis aragones racist comments thierry henry guilty aragones lose job face fine 22 000 federation initially declined take action against aragones comments national team training session october president angel maria villar changed mind request spain s anti-violence commission aragones insisted comments henry s arsenal club-mate jose antonio reyes meant motivate player intended offensive  i intended offend reason i easy conscience  time i m obliged motivate players get best results part job i colloquial language understand framework football world  england s players point wearing anti-racism t-shirts training before friendly against spain madrid month storm increased following racist chanting spanish fans england s black players game spain 1-0 spain s minister sport jaime lissavetzky quick give backing federation s decision everyone public function consider declarations sure give negative image  going zero tolerance questions racism \t sport\n",
            "consumer spending lifts growth economic growth accelerated third quarter helped strong consumer spending official figures shown economy expanded annual rate 37 july september period commerce department figure marked increase 33 growth recorded second quarter fell short 42 rate pencilled forecasters increase reflected biggest jump consumer spending year little softer consensus real surprise  gary thayer economist ag edwards sons friday s growth estimate one significant pieces economic data before 2 november presidential election democrat challenger john kerry criticised president george w bush s handling economy pointing net loss 800 000 jobs bush took office analysts economy growing fast stimulate large-scale job creation s pretty good growth rate good create jobs  robert brusca chief economist fact opinion economics york president bush expected point commerce department figures showing consumer spending grew 46 third quarter just 16 second evidence policies generating solid growth consumer spending accounts two thirds economic activity weaker expected growth figure federal reserve raise interest rates month economists economy regained traction third quarter growth robust  ag edwards thayer i think means fed take time raising rates probably see one rate hike before year effort pre-empt rising inflation federal reserve pushed three quarter-point rate rises june year borrowing costs 175 financial markets dollar fell slightly against euro yen dow jones index leading shares little changed \t business\n",
            "wales two changes france wales coach mike ruddock two changes team beat italy 38-8 saturday s trip france kevin morgan takes injured newport-gwent dragons colleague hal luscombe right wing pack neath-swansea ospreys forward ryan jones preferred blindside flanker jonathan thomas thomas try-scorer rome drops bench ian gough cardiff back rhys williams steps place morgan luscombe sidelined hamstring problem sustained six nations game against italy weekend  experienced in-form morgan pushing hard start stade de france due impressive performances bench kevin selection mix anyway unfortunate injury hal gives chance start  ruddock ryan jones recovered injury increased options back row jonathan thomas unlucky lose spot performing against italy scoring try competition places position debated detail particular game felt afforded open spaces wide able exploit against italy extra big ball-carrier back-row thought necessary occasion obviously s 22-man game days chance jonathan making impact bench wales beaten france two three visits paris victory time keep firmly course first five six nations title triumph 1994 graham henry former wales coach couple years ago bold going france proved right  ruddock great way approach game something endorse players week  g thomas toulouse capt k morgan newport-gwent t shanklin cardiff g henson neath-swansea s williams neath-swansea s jones clermont auvergne d peel llanelli g jenkins cardiff m davies gloucester jones neath-swansea b cockbain neath-swansea r sidoli cardiff r jones neath-swansea m williams cardiff m owen newport-gwent replacements r mcbryde llanelli j yapp cardiff j thomas neath-swansea r sowden-taylor cardiff g cooper newport-gwent c sweeney newport-gwent r williams cardiff \t sport\n",
            "standard life cuts policy bonuses standard life europe s largest mutual life insurer cut bonuses with-profit policyholders annual bonus rates with-profits life policies cut 25 2 bonuses pension policies reduced 325 25 sixth time three years standard life cuts bonus rates despite 87 rise value with-profits fund 2004 insurer blamed cuts poor share returns low interest rates with-profits policies designed smooth peaks troughs stock market volatility profits good years kept reserve pay investors annual bonus stock market performs badly slumping share prices 2001 2002 forced firms trim bonus rates policies standard life came criticism sticking stock market investments 2001 2002 insurer argued shares outperformed investments long term policyholders feel benefit stock market recovered recently norwich union axa sun life cut with-profit bonus rates john gill managing director insurer s life pensions division strong stock market recovery past two years partly compensated losses 2001 2002 addition low interest rates meant long-term investment returns historic levels  gill added gill maintained with-profits continued perform long term payouts continue stand against types long-term investments similar periods  standard life estimated 24 million with-profits policyholders year company announced looking float stock market 2006 \t business\n",
            "school sport back  says pm tony blair promised sport back priority schools prime minister launched 500m initiative allow school sports clubs england provide three hours extra activity week 2010 s important part education s important part health  blair conservatives government proposals - include two hours pe school 75 pupils 2006 - unrealistic latest move aimed encouraging diversity sport activities yoga tai chi options launching initiative blair completed agility course shot basketball hoops students all-girl waverley sports college southwark south london got bring back school sport s got done differently 30 40 years ago s important  earlier education secretary charles clarke told bbc news least three areas needed coherent framework  dedicated funding training pe teachers establishing specialist schools development partnerships activities inter-school competitions added government originally pledged pupil get least two hours high-quality physical education week proportion currently 62 government hoping rise 85 2008 100 2010 money initiative 500m fund 500m move increase number specialist sport colleges 350 400 conservatives warned rising obesity levels third children two hours sport week currently government promising something guarantee shadow spokesman sport hugh robertson i suspect correct way tackle look spectrum try enable clubs - real passion sport exists - deliver school sport offer emphasis put traditional sports saying anti-competitive sport agenda pursued recent years martin ward secondary heads association members ring-fenced funds schools decide spend money \t politics\n",
            "federer forced dig deep top seed roger federer save two match points before squeezing past juan carlos ferrero dubai open world number one took two hours 15 minutes earn 4-6 6-3 7-6 victory saving match points 6-4 tiebreak before claiming 8-6 federer number unforced errors allowing ferrero take advantage claim first set swiss star hit back reach quarter-finals face seventh seed russian mikhail youzhny russian beat germany s rainer schuettler 7-5 6-4 federer unduly worried despite taken three sets third consecutive match world number one forced go distance against ivan ljubicic rotterdam final against ivo minar first round dubai i definitely slow start back time quite effort  i t playing i coming i m winning crucial points shows i m top game i \t sport\n"
          ],
          "name": "stdout"
        }
      ]
    },
    {
      "cell_type": "code",
      "metadata": {
        "id": "ywPgwYk1L2GQ",
        "colab_type": "code",
        "outputId": "2535a5a6-c1c9-41b5-f780-ee3370ae52c1",
        "colab": {
          "base_uri": "https://localhost:8080/",
          "height": 85
        }
      },
      "source": [
        "sentences_lengths = [len(sentence.split(' ')) for sentence in sentences]\n",
        "train_lengths = [len(sentence.split(' ')) for sentence in train_sentences]\n",
        "validation_lengths = [len(sentence.split(' ')) for sentence in validation_sentences]\n",
        "\n",
        "# TODO: the code below seems inefficient, think about optimising it\n",
        "\n",
        "words_in_train_sentences = []\n",
        "for s in train_sentences:\n",
        "  for word in s.split(' '):\n",
        "    words_in_train_sentences.append(word)\n",
        "\n",
        "print(\"Num words in training sentences:\", len(words_in_train_sentences))\n",
        "print(\"Num unique words in training sentences:\", len(set(words_in_train_sentences)))\n",
        "\n",
        "#print(\"Max num words all sentences:\", max(sentences_lengths)) # do not look at this :)\n",
        "print(f\"The longest training sentence has {max(train_lengths)} words\")\n",
        "print(f\"The shortest training sentence has {min(train_lengths)} words\")\n",
        "#print(\"Max num words testing:\", max(testing_lengths))  # do not look at this :)"
      ],
      "execution_count": 0,
      "outputs": [
        {
          "output_type": "stream",
          "text": [
            "Num words in training sentences: 378357\n",
            "Num unique words in training sentences: 29425\n",
            "The longest training sentence has 1846 words\n",
            "The shortest training sentence has 48 words\n"
          ],
          "name": "stdout"
        }
      ]
    },
    {
      "cell_type": "code",
      "metadata": {
        "colab_type": "code",
        "id": "ULzA8xhwZI22",
        "outputId": "f3d3ad0c-3cf8-430a-97a9-5d554f19bb7c",
        "colab": {
          "base_uri": "https://localhost:8080/",
          "height": 119
        }
      },
      "source": [
        "tokenizer = Tokenizer(num_words=vocab_size, oov_token=oov_tok)\n",
        "tokenizer.fit_on_texts(train_sentences)\n",
        "word_index = tokenizer.word_index\n",
        "\n",
        "train_sequences = tokenizer.texts_to_sequences(train_sentences)\n",
        "train_padded = pad_sequences(train_sequences, maxlen=max_length, padding=padding_type,\n",
        "                             truncating=trunc_type)\n",
        "\n",
        "print(len(train_sequences[0]))\n",
        "print(len(train_padded[0]))\n",
        "\n",
        "print(len(train_sequences[1]))\n",
        "print(len(train_padded[1]))\n",
        "\n",
        "print(len(train_sequences[10]))\n",
        "print(len(train_padded[10]))\n",
        "\n",
        "# Expected Ouput\n",
        "# 449\n",
        "# 120\n",
        "# 200\n",
        "# 120\n",
        "# 192\n",
        "# 120"
      ],
      "execution_count": 0,
      "outputs": [
        {
          "output_type": "stream",
          "text": [
            "139\n",
            "120\n",
            "193\n",
            "120\n",
            "439\n",
            "120\n"
          ],
          "name": "stdout"
        }
      ]
    },
    {
      "cell_type": "code",
      "metadata": {
        "colab_type": "code",
        "id": "c8PeFWzPZLW_",
        "outputId": "8b3162b4-94e3-404a-88f8-e99e584527d9",
        "colab": {
          "base_uri": "https://localhost:8080/",
          "height": 51
        }
      },
      "source": [
        "validation_sequences = tokenizer.texts_to_sequences(validation_sentences)\n",
        "validation_padded = pad_sequences(validation_sequences, maxlen=max_length, padding=padding_type,\n",
        "                             truncating=trunc_type)\n",
        "\n",
        "print(len(validation_sequences))\n",
        "print(validation_padded.shape)\n",
        "\n",
        "# Expected output\n",
        "# 445\n",
        "# (445, 120)"
      ],
      "execution_count": 0,
      "outputs": [
        {
          "output_type": "stream",
          "text": [
            "445\n",
            "(445, 120)\n"
          ],
          "name": "stdout"
        }
      ]
    },
    {
      "cell_type": "code",
      "metadata": {
        "colab_type": "code",
        "id": "XkWiQ_FKZNp2",
        "outputId": "4fc458b6-b9ba-4a3c-fb9d-f660d9ac01f0",
        "colab": {
          "base_uri": "https://localhost:8080/",
          "height": 153
        }
      },
      "source": [
        "label_tokenizer = Tokenizer(num_words=5, oov_token=oov_tok)\n",
        "label_tokenizer.fit_on_texts(labels)\n",
        "\n",
        "training_label_seq = np.array(label_tokenizer.texts_to_sequences(train_labels))\n",
        "validation_label_seq = np.array(label_tokenizer.texts_to_sequences(validation_labels))\n",
        "\n",
        "print(training_label_seq[0])\n",
        "print(training_label_seq[1])\n",
        "print(training_label_seq[2])\n",
        "print(training_label_seq.shape)\n",
        "\n",
        "print(validation_label_seq[0])\n",
        "print(validation_label_seq[1])\n",
        "print(validation_label_seq[2])\n",
        "print(validation_label_seq.shape)\n",
        "\n",
        "# Expected output\n",
        "# [4]\n",
        "# [2]\n",
        "# [1]\n",
        "# (1780, 1)\n",
        "# [5]\n",
        "# [4]\n",
        "# [3]\n",
        "# (445, 1)"
      ],
      "execution_count": 0,
      "outputs": [
        {
          "output_type": "stream",
          "text": [
            "[1]\n",
            "[1]\n",
            "[3]\n",
            "(1780, 1)\n",
            "[3]\n",
            "[4]\n",
            "[4]\n",
            "(445, 1)\n"
          ],
          "name": "stdout"
        }
      ]
    },
    {
      "cell_type": "code",
      "metadata": {
        "id": "UTgQAOI4Qn6w",
        "colab_type": "code",
        "outputId": "41a6a576-576f-40b3-b832-1447a8559b86",
        "colab": {
          "base_uri": "https://localhost:8080/",
          "height": 102
        }
      },
      "source": [
        "training_label_seq[:5]"
      ],
      "execution_count": 0,
      "outputs": [
        {
          "output_type": "execute_result",
          "data": {
            "text/plain": [
              "array([[1],\n",
              "       [1],\n",
              "       [3],\n",
              "       [3],\n",
              "       [1]])"
            ]
          },
          "metadata": {
            "tags": []
          },
          "execution_count": 88
        }
      ]
    },
    {
      "cell_type": "code",
      "metadata": {
        "id": "3tBB9RbZQJAG",
        "colab_type": "code",
        "colab": {}
      },
      "source": [
        "tl = training_label_seq.reshape(1, -1)"
      ],
      "execution_count": 0,
      "outputs": []
    },
    {
      "cell_type": "code",
      "metadata": {
        "id": "-lOk8ay1QeKx",
        "colab_type": "code",
        "colab": {}
      },
      "source": [
        "vl = validation_label_seq.reshape(1, -1)"
      ],
      "execution_count": 0,
      "outputs": []
    },
    {
      "cell_type": "code",
      "metadata": {
        "id": "sdGss1ktQWrf",
        "colab_type": "code",
        "outputId": "6b5302eb-be87-48ea-cddd-fbfb195ce158",
        "colab": {
          "base_uri": "https://localhost:8080/",
          "height": 34
        }
      },
      "source": [
        "np.bincount(vl[0])"
      ],
      "execution_count": 0,
      "outputs": [
        {
          "output_type": "execute_result",
          "data": {
            "text/plain": [
              "array([  0, 159,  94,  99,  93])"
            ]
          },
          "metadata": {
            "tags": []
          },
          "execution_count": 91
        }
      ]
    },
    {
      "cell_type": "code",
      "metadata": {
        "colab_type": "code",
        "id": "HZ5um4MWZP-W",
        "outputId": "de071c84-5ccd-426b-f099-75b6007e8902",
        "colab": {
          "base_uri": "https://localhost:8080/",
          "height": 289
        }
      },
      "source": [
        "model = tf.keras.Sequential([\n",
        "  tf.keras.layers.Embedding(input_dim=vocab_size, output_dim=embedding_dim, input_length=max_length),\n",
        "  tf.keras.layers.GlobalAveragePooling1D(),\n",
        "  tf.keras.layers.Dense(24, activation='relu'),\n",
        "  tf.keras.layers.Dense(5, activation='softmax')\n",
        "  \n",
        "])\n",
        "model.compile(loss='sparse_categorical_crossentropy',optimizer='adam',metrics=['accuracy'])\n",
        "model.summary()\n",
        "\n",
        "# Expected Output\n",
        "# Layer (type)                 Output Shape              Param #   \n",
        "# =================================================================\n",
        "# embedding (Embedding)        (None, 120, 16)           16000     \n",
        "# _________________________________________________________________\n",
        "# global_average_pooling1d (Gl (None, 16)                0         \n",
        "# _________________________________________________________________\n",
        "# dense (Dense)                (None, 24)                408       \n",
        "# _________________________________________________________________\n",
        "# dense_1 (Dense)              (None, 6)                 150       \n",
        "# =================================================================\n",
        "# Total params: 16,558\n",
        "# Trainable params: 16,558\n",
        "# Non-trainable params: 0"
      ],
      "execution_count": 0,
      "outputs": [
        {
          "output_type": "stream",
          "text": [
            "Model: \"sequential_1\"\n",
            "_________________________________________________________________\n",
            "Layer (type)                 Output Shape              Param #   \n",
            "=================================================================\n",
            "embedding_1 (Embedding)      (None, 120, 16)           16000     \n",
            "_________________________________________________________________\n",
            "global_average_pooling1d_1 ( (None, 16)                0         \n",
            "_________________________________________________________________\n",
            "dense_2 (Dense)              (None, 24)                408       \n",
            "_________________________________________________________________\n",
            "dense_3 (Dense)              (None, 5)                 125       \n",
            "=================================================================\n",
            "Total params: 16,533\n",
            "Trainable params: 16,533\n",
            "Non-trainable params: 0\n",
            "_________________________________________________________________\n"
          ],
          "name": "stdout"
        }
      ]
    },
    {
      "cell_type": "code",
      "metadata": {
        "colab_type": "code",
        "id": "XsfdxySKZSXu",
        "outputId": "ce389f68-2d0b-4050-ce58-648bd94ca297",
        "colab": {
          "base_uri": "https://localhost:8080/",
          "height": 1000
        }
      },
      "source": [
        "num_epochs = 30\n",
        "history = model.fit(train_padded, training_label_seq, \n",
        "                    validation_data=(validation_padded, validation_label_seq),\n",
        "                    epochs=num_epochs)"
      ],
      "execution_count": 0,
      "outputs": [
        {
          "output_type": "stream",
          "text": [
            "Epoch 1/30\n",
            "56/56 [==============================] - 0s 7ms/step - loss: 1.5667 - accuracy: 0.3556 - val_loss: 1.5153 - val_accuracy: 0.3573\n",
            "Epoch 2/30\n",
            "56/56 [==============================] - 0s 6ms/step - loss: 1.4497 - accuracy: 0.3528 - val_loss: 1.3825 - val_accuracy: 0.3573\n",
            "Epoch 3/30\n",
            "56/56 [==============================] - 0s 6ms/step - loss: 1.3126 - accuracy: 0.3803 - val_loss: 1.2471 - val_accuracy: 0.3933\n",
            "Epoch 4/30\n",
            "56/56 [==============================] - 0s 6ms/step - loss: 1.1591 - accuracy: 0.5022 - val_loss: 1.0788 - val_accuracy: 0.5955\n",
            "Epoch 5/30\n",
            "56/56 [==============================] - 0s 6ms/step - loss: 0.9671 - accuracy: 0.7067 - val_loss: 0.8734 - val_accuracy: 0.8090\n",
            "Epoch 6/30\n",
            "56/56 [==============================] - 0s 6ms/step - loss: 0.7603 - accuracy: 0.8478 - val_loss: 0.6771 - val_accuracy: 0.8966\n",
            "Epoch 7/30\n",
            "56/56 [==============================] - 0s 6ms/step - loss: 0.5862 - accuracy: 0.9062 - val_loss: 0.5303 - val_accuracy: 0.9191\n",
            "Epoch 8/30\n",
            "56/56 [==============================] - 0s 6ms/step - loss: 0.4562 - accuracy: 0.9399 - val_loss: 0.4179 - val_accuracy: 0.9483\n",
            "Epoch 9/30\n",
            "56/56 [==============================] - 0s 6ms/step - loss: 0.3611 - accuracy: 0.9551 - val_loss: 0.3403 - val_accuracy: 0.9483\n",
            "Epoch 10/30\n",
            "56/56 [==============================] - 0s 6ms/step - loss: 0.2915 - accuracy: 0.9596 - val_loss: 0.2843 - val_accuracy: 0.9506\n",
            "Epoch 11/30\n",
            "56/56 [==============================] - 0s 6ms/step - loss: 0.2419 - accuracy: 0.9663 - val_loss: 0.2452 - val_accuracy: 0.9506\n",
            "Epoch 12/30\n",
            "56/56 [==============================] - 0s 6ms/step - loss: 0.2037 - accuracy: 0.9680 - val_loss: 0.2131 - val_accuracy: 0.9528\n",
            "Epoch 13/30\n",
            "56/56 [==============================] - 0s 7ms/step - loss: 0.1747 - accuracy: 0.9725 - val_loss: 0.1887 - val_accuracy: 0.9506\n",
            "Epoch 14/30\n",
            "56/56 [==============================] - 0s 6ms/step - loss: 0.1523 - accuracy: 0.9747 - val_loss: 0.1688 - val_accuracy: 0.9640\n",
            "Epoch 15/30\n",
            "56/56 [==============================] - 0s 7ms/step - loss: 0.1338 - accuracy: 0.9764 - val_loss: 0.1557 - val_accuracy: 0.9685\n",
            "Epoch 16/30\n",
            "56/56 [==============================] - 0s 7ms/step - loss: 0.1190 - accuracy: 0.9798 - val_loss: 0.1455 - val_accuracy: 0.9618\n",
            "Epoch 17/30\n",
            "56/56 [==============================] - 0s 6ms/step - loss: 0.1063 - accuracy: 0.9820 - val_loss: 0.1345 - val_accuracy: 0.9663\n",
            "Epoch 18/30\n",
            "56/56 [==============================] - 0s 6ms/step - loss: 0.0957 - accuracy: 0.9848 - val_loss: 0.1270 - val_accuracy: 0.9640\n",
            "Epoch 19/30\n",
            "56/56 [==============================] - 0s 6ms/step - loss: 0.0863 - accuracy: 0.9854 - val_loss: 0.1198 - val_accuracy: 0.9663\n",
            "Epoch 20/30\n",
            "56/56 [==============================] - 0s 6ms/step - loss: 0.0789 - accuracy: 0.9876 - val_loss: 0.1151 - val_accuracy: 0.9596\n",
            "Epoch 21/30\n",
            "56/56 [==============================] - 0s 6ms/step - loss: 0.0721 - accuracy: 0.9888 - val_loss: 0.1097 - val_accuracy: 0.9618\n",
            "Epoch 22/30\n",
            "56/56 [==============================] - 0s 6ms/step - loss: 0.0653 - accuracy: 0.9904 - val_loss: 0.1052 - val_accuracy: 0.9663\n",
            "Epoch 23/30\n",
            "56/56 [==============================] - 0s 6ms/step - loss: 0.0598 - accuracy: 0.9904 - val_loss: 0.1022 - val_accuracy: 0.9640\n",
            "Epoch 24/30\n",
            "56/56 [==============================] - 0s 6ms/step - loss: 0.0552 - accuracy: 0.9921 - val_loss: 0.0979 - val_accuracy: 0.9663\n",
            "Epoch 25/30\n",
            "56/56 [==============================] - 0s 6ms/step - loss: 0.0501 - accuracy: 0.9938 - val_loss: 0.0965 - val_accuracy: 0.9640\n",
            "Epoch 26/30\n",
            "56/56 [==============================] - 0s 6ms/step - loss: 0.0459 - accuracy: 0.9966 - val_loss: 0.0942 - val_accuracy: 0.9618\n",
            "Epoch 27/30\n",
            "56/56 [==============================] - 0s 6ms/step - loss: 0.0423 - accuracy: 0.9955 - val_loss: 0.0908 - val_accuracy: 0.9640\n",
            "Epoch 28/30\n",
            "56/56 [==============================] - 0s 6ms/step - loss: 0.0386 - accuracy: 0.9972 - val_loss: 0.0890 - val_accuracy: 0.9663\n",
            "Epoch 29/30\n",
            "56/56 [==============================] - 0s 6ms/step - loss: 0.0357 - accuracy: 0.9966 - val_loss: 0.0893 - val_accuracy: 0.9663\n",
            "Epoch 30/30\n",
            "56/56 [==============================] - 0s 6ms/step - loss: 0.0330 - accuracy: 0.9972 - val_loss: 0.0858 - val_accuracy: 0.9663\n"
          ],
          "name": "stdout"
        }
      ]
    },
    {
      "cell_type": "code",
      "metadata": {
        "colab_type": "code",
        "id": "dQ0BX2apXS9u",
        "outputId": "5fa7ce23-6f76-4f01-cd8a-e10004c4cdd6",
        "colab": {
          "base_uri": "https://localhost:8080/",
          "height": 541
        }
      },
      "source": [
        "import matplotlib.pyplot as plt\n",
        "\n",
        "\n",
        "def plot_graphs(history, string):\n",
        "  plt.plot(history.history[string])\n",
        "  plt.plot(history.history['val_'+string])\n",
        "  plt.xlabel(\"Epochs\")\n",
        "  plt.ylabel(string)\n",
        "  plt.legend([string, 'val_'+string])\n",
        "  plt.show()\n",
        "  \n",
        "plot_graphs(history, \"accuracy\")\n",
        "plot_graphs(history, \"loss\")"
      ],
      "execution_count": 0,
      "outputs": [
        {
          "output_type": "display_data",
          "data": {
            "image/png": "[encoded data removed]",
            "text/plain": [
              "<Figure size 432x288 with 1 Axes>"
            ]
          },
          "metadata": {
            "tags": [],
            "needs_background": "light"
          }
        },
        {
          "output_type": "display_data",
          "data": {
            "image/png": "[encoded data removed]",
            "text/plain": [
              "<Figure size 432x288 with 1 Axes>"
            ]
          },
          "metadata": {
            "tags": [],
            "needs_background": "light"
          }
        }
      ]
    },
    {
      "cell_type": "code",
      "metadata": {
        "colab_type": "code",
        "id": "w7Xc-uWxXhML",
        "colab": {}
      },
      "source": [
        "reverse_word_index = dict([(value, key) for (key, value) in word_index.items()])\n",
        "\n",
        "def decode_sentence(text):\n",
        "    return ' '.join([reverse_word_index.get(i, '?') for i in text])\n"
      ],
      "execution_count": 0,
      "outputs": []
    },
    {
      "cell_type": "code",
      "metadata": {
        "colab_type": "code",
        "id": "OhnFA_TDXrih",
        "outputId": "bd461b05-4688-4ce9-a738-f77127934a0b",
        "colab": {
          "base_uri": "https://localhost:8080/",
          "height": 34
        }
      },
      "source": [
        "e = model.layers[0]\n",
        "weights = e.get_weights()[0]\n",
        "print(weights.shape) # shape: (vocab_size, embedding_dim)\n",
        "\n",
        "# Expected output\n",
        "# (1000, 16)"
      ],
      "execution_count": 0,
      "outputs": [
        {
          "output_type": "stream",
          "text": [
            "(1000, 16)\n"
          ],
          "name": "stdout"
        }
      ]
    },
    {
      "cell_type": "code",
      "metadata": {
        "colab_type": "code",
        "id": "_POzcWWAXudL",
        "colab": {}
      },
      "source": [
        "import io\n",
        "\n",
        "out_v = io.open('vecs.tsv', 'w', encoding='utf-8')\n",
        "out_m = io.open('meta.tsv', 'w', encoding='utf-8')\n",
        "for word_num in range(1, vocab_size):\n",
        "  word = reverse_word_index[word_num]\n",
        "  embeddings = weights[word_num]\n",
        "  out_m.write(word + \"\\n\")\n",
        "  out_v.write('\\t'.join([str(x) for x in embeddings]) + \"\\n\")\n",
        "out_v.close()\n",
        "out_m.close()"
      ],
      "execution_count": 0,
      "outputs": []
    },
    {
      "cell_type": "code",
      "metadata": {
        "colab_type": "code",
        "id": "VmqpQMZ_XyOa",
        "colab": {}
      },
      "source": [
        "try:\n",
        "  from google.colab import files\n",
        "except ImportError:\n",
        "  pass\n",
        "else:\n",
        "  files.download('vecs.tsv')\n",
        "  files.download('meta.tsv')"
      ],
      "execution_count": 0,
      "outputs": []
    },
    {
      "cell_type": "code",
      "metadata": {
        "id": "C-349Y4PSlUF",
        "colab_type": "code",
        "colab": {}
      },
      "source": [
        ""
      ],
      "execution_count": 0,
      "outputs": []
    }
  ]
}